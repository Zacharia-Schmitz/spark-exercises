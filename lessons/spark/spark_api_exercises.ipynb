{
 "cells": [
  {
   "cell_type": "markdown",
   "id": "d7d5e365-a348-4d71-b126-50c8ba39d4b8",
   "metadata": {},
   "source": [
    "## Exercises\n",
    "\n",
    "Using the [repo setup directions](https://ds.codeup.com/fundamentals/git/), setup a new local and remote repository named `spark-exercises`. The local version of your repo should live inside of `~/codeup-data-science`. This repo should be named `spark-exercises`\n",
    "\n",
    "Save this work in your `spark-exercises` repo. Then add, commit, and push your changes.\n",
    "\n",
    "Create a jupyter notebook or python script named `spark101` for this exercise."
   ]
  },
  {
   "cell_type": "code",
   "execution_count": 1,
   "id": "1d5ad6c2-cf12-4713-b0a7-4f1f9fb2af40",
   "metadata": {},
   "outputs": [],
   "source": [
    "import pandas as pd\n",
    "import numpy as np\n",
    "import pyspark"
   ]
  },
  {
   "cell_type": "markdown",
   "id": "8565e491-8132-4755-b633-34dd436f26c9",
   "metadata": {},
   "source": [
    "1. Create a spark data frame that contains your favorite programming languages."
   ]
  },
  {
   "cell_type": "code",
   "execution_count": 2,
   "id": "31637f15-0ec4-4938-b883-a0e4aae90a62",
   "metadata": {},
   "outputs": [
    {
     "name": "stderr",
     "output_type": "stream",
     "text": [
      "Setting default log level to \"WARN\".\n",
      "To adjust logging level use sc.setLogLevel(newLevel). For SparkR, use setLogLevel(newLevel).\n",
      "23/10/26 09:30:51 WARN NativeCodeLoader: Unable to load native-hadoop library for your platform... using builtin-java classes where applicable\n"
     ]
    }
   ],
   "source": [
    "# in order to work with spark dataframes,\n",
    "# we will need to establish a spark session\n",
    "session = pyspark.sql.SparkSession.builder.getOrCreate()"
   ]
  },
  {
   "cell_type": "code",
   "execution_count": 3,
   "id": "bd321ad2-01f9-442d-b8a6-cb7e58f707fa",
   "metadata": {},
   "outputs": [
    {
     "data": {
      "text/html": [
       "\n",
       "            <div>\n",
       "                <p><b>SparkSession - in-memory</b></p>\n",
       "                \n",
       "        <div>\n",
       "            <p><b>SparkContext</b></p>\n",
       "\n",
       "            <p><a href=\"http://madeleinesmbp2.localdomain:4040\">Spark UI</a></p>\n",
       "\n",
       "            <dl>\n",
       "              <dt>Version</dt>\n",
       "                <dd><code>v3.4.0</code></dd>\n",
       "              <dt>Master</dt>\n",
       "                <dd><code>local[*]</code></dd>\n",
       "              <dt>AppName</dt>\n",
       "                <dd><code>pyspark-shell</code></dd>\n",
       "            </dl>\n",
       "        </div>\n",
       "        \n",
       "            </div>\n",
       "        "
      ],
      "text/plain": [
       "<pyspark.sql.session.SparkSession at 0x11fed4690>"
      ]
     },
     "execution_count": 3,
     "metadata": {},
     "output_type": "execute_result"
    }
   ],
   "source": [
    "session"
   ]
  },
  {
   "cell_type": "markdown",
   "id": "1fe23ccb-75a0-43a3-b663-f54f45c45337",
   "metadata": {},
   "source": [
    "    - The name of the column should be `language`\n",
    "    "
   ]
  },
  {
   "cell_type": "code",
   "execution_count": 4,
   "id": "6cbd385f-1170-47b6-9f66-2c01eacb2645",
   "metadata": {},
   "outputs": [],
   "source": [
    "fav_langs = session.createDataFrame(pd.DataFrame(\n",
    "{\n",
    "    'language': [\n",
    "        'python',\n",
    "        'r',\n",
    "        'c',\n",
    "        'rust',\n",
    "        'ruby',\n",
    "        'c++',\n",
    "        'java',\n",
    "        'golang'\n",
    "    ]\n",
    "    \n",
    "}))"
   ]
  },
  {
   "cell_type": "markdown",
   "id": "f4c0d59e-cbca-4821-9e36-044326341fb3",
   "metadata": {},
   "source": [
    "    - View the schema of the dataframe"
   ]
  },
  {
   "cell_type": "code",
   "execution_count": 5,
   "id": "6f0e3cbc-4405-4138-8512-6895492d0764",
   "metadata": {},
   "outputs": [
    {
     "name": "stdout",
     "output_type": "stream",
     "text": [
      "root\n",
      " |-- language: string (nullable = true)\n",
      "\n"
     ]
    }
   ],
   "source": [
    "fav_langs.printSchema()"
   ]
  },
  {
   "cell_type": "markdown",
   "id": "0337825c-1884-4d7c-91e3-012ac97fd016",
   "metadata": {},
   "source": [
    "    - Output the shape of the dataframe"
   ]
  },
  {
   "cell_type": "code",
   "execution_count": 6,
   "id": "57a1a6bf-aabc-4f5b-aa67-30bc6f777253",
   "metadata": {},
   "outputs": [
    {
     "name": "stderr",
     "output_type": "stream",
     "text": [
      "                                                                                \r"
     ]
    },
    {
     "data": {
      "text/plain": [
       "(8, 1)"
      ]
     },
     "execution_count": 6,
     "metadata": {},
     "output_type": "execute_result"
    }
   ],
   "source": [
    "# take the count of rows, followed by the length of columns\n",
    "fav_langs.count(), len(fav_langs.columns)"
   ]
  },
  {
   "cell_type": "markdown",
   "id": "bb11c98d-2ed5-4d9d-870e-98be6199a360",
   "metadata": {},
   "source": [
    "     - Show the first 5 records in the dataframe"
   ]
  },
  {
   "cell_type": "code",
   "execution_count": 7,
   "id": "f3b574d4-6ce7-4ab6-be9f-d5c0580ffc3c",
   "metadata": {},
   "outputs": [
    {
     "name": "stdout",
     "output_type": "stream",
     "text": [
      "+--------+\n",
      "|language|\n",
      "+--------+\n",
      "|  python|\n",
      "|       r|\n",
      "|       c|\n",
      "|    rust|\n",
      "|    ruby|\n",
      "+--------+\n",
      "only showing top 5 rows\n",
      "\n"
     ]
    }
   ],
   "source": [
    "fav_langs.show(5)"
   ]
  },
  {
   "cell_type": "markdown",
   "id": "41db8d91-5833-4b2e-bc7e-f35c5aaf0da6",
   "metadata": {},
   "source": [
    "2. Load the `mpg` dataset as a spark dataframe."
   ]
  },
  {
   "cell_type": "code",
   "execution_count": 8,
   "id": "8d7384cc-8780-4e52-adf1-1daa6eaf96be",
   "metadata": {},
   "outputs": [],
   "source": [
    "from pydataset import data\n",
    "mpg = session.createDataFrame(data('mpg'))"
   ]
  },
  {
   "cell_type": "markdown",
   "id": "6cdc81c1-9bf6-4fec-a880-5419ec42e959",
   "metadata": {},
   "source": [
    "    - Create 1 column of output that contains a message like the one below:"
   ]
  },
  {
   "cell_type": "markdown",
   "id": "7dd59099-78ba-4bf3-a497-9cd73ef4ed01",
   "metadata": {},
   "source": [
    "            The 1999 audi a4 has a 4 cylinder engine.\n",
    "\n",
    "        For each vehicle."
   ]
  },
  {
   "cell_type": "code",
   "execution_count": 9,
   "id": "ec32fdb4-2ab9-41f9-8c50-28207100e856",
   "metadata": {},
   "outputs": [],
   "source": [
    "from pyspark.sql import functions as F"
   ]
  },
  {
   "cell_type": "code",
   "execution_count": 10,
   "id": "5d99e55e-69b5-4c2a-9fca-9fbcf6e27bf3",
   "metadata": {},
   "outputs": [
    {
     "name": "stdout",
     "output_type": "stream",
     "text": [
      "+--------------------------------------------------------------+\n",
      "|car_sentence                                                  |\n",
      "+--------------------------------------------------------------+\n",
      "|The 1999 audi a4 has a 4 cylinder engine.                     |\n",
      "|The 1999 audi a4 has a 4 cylinder engine.                     |\n",
      "|The 2008 audi a4 has a 4 cylinder engine.                     |\n",
      "|The 2008 audi a4 has a 4 cylinder engine.                     |\n",
      "|The 1999 audi a4 has a 6 cylinder engine.                     |\n",
      "|The 1999 audi a4 has a 6 cylinder engine.                     |\n",
      "|The 2008 audi a4 has a 6 cylinder engine.                     |\n",
      "|The 1999 audi a4 quattro has a 4 cylinder engine.             |\n",
      "|The 1999 audi a4 quattro has a 4 cylinder engine.             |\n",
      "|The 2008 audi a4 quattro has a 4 cylinder engine.             |\n",
      "|The 2008 audi a4 quattro has a 4 cylinder engine.             |\n",
      "|The 1999 audi a4 quattro has a 6 cylinder engine.             |\n",
      "|The 1999 audi a4 quattro has a 6 cylinder engine.             |\n",
      "|The 2008 audi a4 quattro has a 6 cylinder engine.             |\n",
      "|The 2008 audi a4 quattro has a 6 cylinder engine.             |\n",
      "|The 1999 audi a6 quattro has a 6 cylinder engine.             |\n",
      "|The 2008 audi a6 quattro has a 6 cylinder engine.             |\n",
      "|The 2008 audi a6 quattro has a 8 cylinder engine.             |\n",
      "|The 2008 chevrolet c1500 suburban 2wd has a 8 cylinder engine.|\n",
      "|The 2008 chevrolet c1500 suburban 2wd has a 8 cylinder engine.|\n",
      "+--------------------------------------------------------------+\n",
      "only showing top 20 rows\n",
      "\n"
     ]
    }
   ],
   "source": [
    "# f.lit() casting on string literals in a f.concat()\n",
    "mpg.select(\n",
    "F.concat(F.lit('The '),\n",
    "mpg.year,\n",
    "F.lit(' '),\n",
    "mpg.manufacturer,\n",
    "F.lit(' '),\n",
    "mpg.model,\n",
    "F.lit(' has a '),\n",
    "mpg.cyl,\n",
    "F.lit(' cylinder engine.')).alias('car_sentence')).show(truncate=False)\n"
   ]
  },
  {
   "cell_type": "markdown",
   "id": "20deacd7-98e7-4db9-b90f-8279dc346c74",
   "metadata": {},
   "source": [
    "     - Transform the `trans` column so that it only contains either `manual` or `auto`."
   ]
  },
  {
   "cell_type": "code",
   "execution_count": 11,
   "id": "1d1e7a1b-d03d-49ac-838d-dff2d06eb41d",
   "metadata": {},
   "outputs": [
    {
     "name": "stdout",
     "output_type": "stream",
     "text": [
      "+-------------------+\n",
      "|transmission_custom|\n",
      "+-------------------+\n",
      "|               auto|\n",
      "|             manual|\n",
      "|             manual|\n",
      "|               auto|\n",
      "|               auto|\n",
      "+-------------------+\n",
      "only showing top 5 rows\n",
      "\n"
     ]
    }
   ],
   "source": [
    "# previously in pandas:\n",
    "#np.where(mpg.trans.str.startswith('auto'), 'automatic', 'manual')\n",
    "# to do this in pyspark:\n",
    "mpg.select(\n",
    "F.when(\n",
    "    F.col('trans').startswith('auto'),\n",
    "'auto').otherwise('manual').alias('transmission_custom')).show(5)"
   ]
  },
  {
   "cell_type": "code",
   "execution_count": 12,
   "id": "e1803696-e206-4317-9ce3-fc998626693b",
   "metadata": {},
   "outputs": [
    {
     "name": "stdout",
     "output_type": "stream",
     "text": [
      "+-------------------+\n",
      "|transmission_custom|\n",
      "+-------------------+\n",
      "|               auto|\n",
      "|             manual|\n",
      "|             manual|\n",
      "|               auto|\n",
      "|               auto|\n",
      "+-------------------+\n",
      "only showing top 5 rows\n",
      "\n"
     ]
    }
   ],
   "source": [
    "mpg.select(\n",
    "F.when(\n",
    "    F.expr(\"trans LIKE 'auto%'\"),\n",
    "'auto').otherwise('manual').alias('transmission_custom')).show(5)"
   ]
  },
  {
   "cell_type": "markdown",
   "id": "e25c7062-2162-4961-ae02-004f76582229",
   "metadata": {},
   "source": [
    "3. Load the `tips` dataset as a spark dataframe.\n",
    "\n",
    "    1. What percentage of observations are smokers?\n",
    "    "
   ]
  },
  {
   "cell_type": "code",
   "execution_count": 13,
   "id": "0fbb0254-324e-479c-9984-d310a4d21c84",
   "metadata": {},
   "outputs": [],
   "source": [
    "# load up tips from pydataset, feed it into createDataFrame\n",
    "tips = session.createDataFrame(data('tips'))"
   ]
  },
  {
   "cell_type": "code",
   "execution_count": 14,
   "id": "459636a4-8b27-4697-b60d-76e45b55d9a7",
   "metadata": {},
   "outputs": [
    {
     "name": "stderr",
     "output_type": "stream",
     "text": [
      "[Stage 13:>                                                       (0 + 12) / 12]\r"
     ]
    },
    {
     "name": "stdout",
     "output_type": "stream",
     "text": [
      "+------+--------------+\n",
      "|smoker|percent_smoker|\n",
      "+------+--------------+\n",
      "|    No|         61.89|\n",
      "|   Yes|         38.11|\n",
      "+------+--------------+\n",
      "\n"
     ]
    },
    {
     "name": "stderr",
     "output_type": "stream",
     "text": [
      "                                                                                \r"
     ]
    }
   ],
   "source": [
    "# group by smoker column,\n",
    "# grab the counts of each subpopulation,\n",
    "# make a new column (withColumn) called percent\n",
    "# reference the new aggreagted column count, divide by the length of the df\n",
    "# multiply by 100 to get the percentage, round the whole thing\n",
    "# then show\n",
    "tips.groupBy('smoker').agg(\n",
    "    F.round(\n",
    "        (F.count(F.col('smoker')\n",
    "                ) / tips.count()\n",
    "        ) * 100, 2).alias('percent_smoker')\n",
    ").show()"
   ]
  },
  {
   "cell_type": "markdown",
   "id": "31e1265c-ae76-4dc5-9167-10a366b490f9",
   "metadata": {},
   "source": [
    "    2. Create a column that contains the tip percentage\n",
    "    "
   ]
  },
  {
   "cell_type": "code",
   "execution_count": 15,
   "id": "3beb90d1-684f-4669-b6c3-4310163e28f7",
   "metadata": {},
   "outputs": [
    {
     "name": "stdout",
     "output_type": "stream",
     "text": [
      "+----------+----+-----------+\n",
      "|total_bill| tip|percent_tip|\n",
      "+----------+----+-----------+\n",
      "|     16.99|1.01|       5.94|\n",
      "|     10.34|1.66|      16.05|\n",
      "|     21.01| 3.5|      16.66|\n",
      "|     23.68|3.31|      13.98|\n",
      "|     24.59|3.61|      14.68|\n",
      "+----------+----+-----------+\n",
      "only showing top 5 rows\n",
      "\n"
     ]
    }
   ],
   "source": [
    "tips.withColumn(\n",
    "    'percent_tip',\n",
    "    F.round((tips.tip / tips.total_bill) * 100, 2)).select(\n",
    "    'total_bill', 'tip','percent_tip').show(5)"
   ]
  },
  {
   "cell_type": "markdown",
   "id": "5dc21a51-3796-417e-855e-fcd4b2ef7d50",
   "metadata": {},
   "source": [
    "    3. Calculate the average tip percentage for each combination of sex and smoker."
   ]
  },
  {
   "cell_type": "code",
   "execution_count": 16,
   "id": "67ec148e-8498-4f05-a27f-32447fca81bc",
   "metadata": {},
   "outputs": [
    {
     "name": "stderr",
     "output_type": "stream",
     "text": [
      "[Stage 17:>                                                       (0 + 12) / 12]\r"
     ]
    },
    {
     "name": "stdout",
     "output_type": "stream",
     "text": [
      "+------+------+--------------+\n",
      "|   sex|smoker|mean_group_tip|\n",
      "+------+------+--------------+\n",
      "|  Male|    No|         16.07|\n",
      "|Female|    No|         15.69|\n",
      "|  Male|   Yes|         15.28|\n",
      "|Female|   Yes|         18.21|\n",
      "+------+------+--------------+\n",
      "\n"
     ]
    },
    {
     "name": "stderr",
     "output_type": "stream",
     "text": [
      "                                                                                \r"
     ]
    }
   ],
   "source": [
    "tips.withColumn(\n",
    "    'percent_tip',\n",
    "    F.round((tips.tip / tips.total_bill) * 100, 2)\n",
    ").groupBy('sex', 'smoker').agg(\n",
    "    F.round(\n",
    "        F.mean(\n",
    "            F.col('percent_tip')\n",
    "        ),2\n",
    "    ).alias('mean_group_tip')\n",
    ").show()"
   ]
  },
  {
   "cell_type": "code",
   "execution_count": 17,
   "id": "135c32aa-e4eb-4062-b7ad-8f9d0255c212",
   "metadata": {},
   "outputs": [
    {
     "name": "stderr",
     "output_type": "stream",
     "text": [
      "[Stage 28:>                                                       (0 + 12) / 12]\r"
     ]
    },
    {
     "name": "stdout",
     "output_type": "stream",
     "text": [
      "+------+-----+-----+\n",
      "|   sex|   No|  Yes|\n",
      "+------+-----+-----+\n",
      "|Female|15.69|18.21|\n",
      "|  Male|16.07|15.28|\n",
      "+------+-----+-----+\n",
      "\n"
     ]
    },
    {
     "name": "stderr",
     "output_type": "stream",
     "text": [
      "                                                                                \r"
     ]
    }
   ],
   "source": [
    "# pivot table version:\n",
    "tips.withColumn(\n",
    "    'percent_tip',\n",
    "    F.round((tips.tip / tips.total_bill) * 100, 2)\n",
    ").groupby('sex').pivot('smoker').agg(\n",
    "    F.round(\n",
    "        F.mean(\n",
    "            F.col('percent_tip')\n",
    "        ),2\n",
    "    ).alias('mean_group_tip')\n",
    ").show()"
   ]
  },
  {
   "cell_type": "markdown",
   "id": "23e3746c-a93c-4ade-8e3e-617dbfece643",
   "metadata": {},
   "source": [
    "4. Use the seattle weather dataset referenced in the lesson to answer the questions below.\n",
    "\n",
    "    - Convert the temperatures to fahrenheit.\n",
    "    "
   ]
  },
  {
   "cell_type": "code",
   "execution_count": 18,
   "id": "0c06fef5-8864-4f82-8a57-9b27009e2033",
   "metadata": {},
   "outputs": [],
   "source": [
    "from vega_datasets import data\n",
    "weather = data.seattle_weather()\n",
    "weather = session.createDataFrame(weather)"
   ]
  },
  {
   "cell_type": "code",
   "execution_count": 19,
   "id": "62716aeb",
   "metadata": {},
   "outputs": [],
   "source": [
    "# c to f: (0°C × 9/5) + 32 = 32°F"
   ]
  },
  {
   "cell_type": "code",
   "execution_count": 20,
   "id": "d7238575-8f10-4d6f-ac65-8bc3d18d4830",
   "metadata": {},
   "outputs": [
    {
     "name": "stdout",
     "output_type": "stream",
     "text": [
      "+-------------------+-------------+--------+--------+----+-------+\n",
      "|               date|precipitation|temp_max|temp_min|wind|weather|\n",
      "+-------------------+-------------+--------+--------+----+-------+\n",
      "|2012-01-01 00:00:00|          0.0|    12.8|     5.0| 4.7|drizzle|\n",
      "+-------------------+-------------+--------+--------+----+-------+\n",
      "only showing top 1 row\n",
      "\n"
     ]
    }
   ],
   "source": [
    "weather.show(1)"
   ]
  },
  {
   "cell_type": "code",
   "execution_count": 21,
   "id": "c8654c1b-f9d1-494e-ab8a-ce8ee33343cb",
   "metadata": {},
   "outputs": [],
   "source": [
    "# create the new weather columns\n",
    "# drop the old ones\n",
    "weather = weather.withColumns(\n",
    "{\n",
    "    'max_temp': F.round(F.col('temp_max') * (9/5) + 32, 2),\n",
    "    'min_temp': F.round(F.col('temp_min') * (9/5) + 32, 2)\n",
    "}).drop('temp_max', 'temp_min')"
   ]
  },
  {
   "cell_type": "markdown",
   "id": "32086e0a-b9f0-41c0-b90f-28dc7afdace0",
   "metadata": {},
   "source": [
    "    - Which month has the most rain, on average?\n",
    "    "
   ]
  },
  {
   "cell_type": "code",
   "execution_count": 22,
   "id": "786e1a2b-e323-4966-b378-0c64af0be70b",
   "metadata": {},
   "outputs": [
    {
     "name": "stderr",
     "output_type": "stream",
     "text": [
      "                                                                                \r"
     ]
    },
    {
     "data": {
      "text/plain": [
       "Row(month(date)=11, avg_rain=5.35)"
      ]
     },
     "execution_count": 22,
     "metadata": {},
     "output_type": "execute_result"
    }
   ],
   "source": [
    "# extract the month from the date\n",
    "# calculate average rain for each month in aggregate\n",
    "# sort the dataframe descending\n",
    "weather.groupBy(\n",
    "    F.month(\n",
    "        F.col('date')\n",
    "    )\n",
    ").agg(\n",
    "    F.round(\n",
    "        F.avg(\n",
    "            F.col(\n",
    "                'precipitation')\n",
    "        ), 2).alias('avg_rain')).sort(F.col('avg_rain'),\n",
    "                                      ascending=False).first()"
   ]
  },
  {
   "cell_type": "markdown",
   "id": "07a5a728-5621-4131-998d-951d15965d12",
   "metadata": {},
   "source": [
    "    - Which year was the windiest?\n",
    "    "
   ]
  },
  {
   "cell_type": "code",
   "execution_count": 23,
   "id": "38278b30-469a-42d4-9c28-a915fd8edd6f",
   "metadata": {},
   "outputs": [],
   "source": [
    "# weather.show(1)"
   ]
  },
  {
   "cell_type": "code",
   "execution_count": 24,
   "id": "1af0a334-ffe9-4b20-ae32-b1dc9ddfdda2",
   "metadata": {},
   "outputs": [
    {
     "data": {
      "text/plain": [
       "Row(year(date)=2012, avg_wind=3.4)"
      ]
     },
     "execution_count": 24,
     "metadata": {},
     "output_type": "execute_result"
    }
   ],
   "source": [
    "weather.groupBy(\n",
    "    F.year(\n",
    "        F.col('date')\n",
    "    )\n",
    ").agg(\n",
    "    F.round(\n",
    "        F.avg(\n",
    "            F.col(\n",
    "                'wind')\n",
    "        ), 2).alias('avg_wind')).sort(F.col('avg_wind'),\n",
    "                                      ascending=False).first()"
   ]
  },
  {
   "cell_type": "markdown",
   "id": "b4734263-18df-4cb7-925d-41db3293116a",
   "metadata": {},
   "source": [
    "    - What is the most frequent type of weather in January?\n",
    "    "
   ]
  },
  {
   "cell_type": "code",
   "execution_count": 25,
   "id": "5a5865ec-574f-4626-a555-f58451528892",
   "metadata": {},
   "outputs": [],
   "source": [
    "# weather in january, what weather type pops up the most?\n",
    "# aggregate on the month of january,\n",
    "# get the count of weather types where its the maximum"
   ]
  },
  {
   "cell_type": "code",
   "execution_count": 26,
   "id": "296f3b96-0ed2-43d1-b949-942e5fad8b7f",
   "metadata": {},
   "outputs": [
    {
     "data": {
      "text/plain": [
       "Row(weather='fog', count=38)"
      ]
     },
     "execution_count": 26,
     "metadata": {},
     "output_type": "execute_result"
    }
   ],
   "source": [
    "weather.filter(\n",
    "    F.month(weather.date) == 1\n",
    ").groupBy(\n",
    "    F.col('weather')\n",
    ").count().sort(F.col('count'), ascending=False).first()"
   ]
  },
  {
   "cell_type": "markdown",
   "id": "76332ea5-28ca-45e1-a7e1-35a46f0501df",
   "metadata": {},
   "source": [
    "    - What is the average high and low temperature on sunny days in July in 2013 and 2014?\n",
    "    "
   ]
  },
  {
   "cell_type": "code",
   "execution_count": 27,
   "id": "c9ed123a-00ff-4a33-a871-ea7b5834b09b",
   "metadata": {},
   "outputs": [],
   "source": [
    "# want to see: avg high and avg low\n",
    "# conditions:\n",
    "# weather == sun\n",
    "# month == 7\n",
    "# year in 2013 or 2014"
   ]
  },
  {
   "cell_type": "code",
   "execution_count": 28,
   "id": "0b86afdb-8e83-4657-b992-768c29d0fabc",
   "metadata": {},
   "outputs": [
    {
     "name": "stdout",
     "output_type": "stream",
     "text": [
      "+-------+-------+\n",
      "|avg_max|avg_min|\n",
      "+-------+-------+\n",
      "|  80.29|  57.53|\n",
      "+-------+-------+\n",
      "\n"
     ]
    }
   ],
   "source": [
    "weather.filter(\n",
    "    (\n",
    "        F.col('weather'\n",
    "             ) == 'sun'\n",
    "    ) & (\n",
    "        F.month(F.col('date')\n",
    "               ) == 7\n",
    "    )\n",
    ").filter(\n",
    "    F.year(\n",
    "        F.col('date')).isin(2013, 2014)).agg(\n",
    "    F.round(\n",
    "        F.avg(\n",
    "            F.col('max_temp')),2).alias('avg_max'),\n",
    "    F.round(\n",
    "        F.avg(\n",
    "            F.col('min_temp')),2).alias('avg_min')).show()"
   ]
  },
  {
   "cell_type": "markdown",
   "id": "9fcfd48f-b6ba-4090-be3a-429e700ca1d4",
   "metadata": {},
   "source": [
    "    - What percentage of days were rainy in q3 of 2015?\n",
    "    "
   ]
  },
  {
   "cell_type": "code",
   "execution_count": 29,
   "id": "4fa90e09-95ed-4d47-9754-528cb87a5fad",
   "metadata": {},
   "outputs": [
    {
     "name": "stdout",
     "output_type": "stream",
     "text": [
      "+-------------+\n",
      "|avg_rain_days|\n",
      "+-------------+\n",
      "|         2.17|\n",
      "+-------------+\n",
      "\n"
     ]
    }
   ],
   "source": [
    "# conditions:\n",
    "# quarter = 3\n",
    "# year == 2015\n",
    "# percent of days where it rained\n",
    "weather.filter(\n",
    "(F.quarter(F.col('date')) == 3) &\n",
    "(F.year(F.col('date')) == 2015)\n",
    ").withColumn(\n",
    "    'rain_happen',\n",
    "    F.when(\n",
    "        F.col('weather') == F.lit('rain'),1).otherwise(0)\n",
    ").agg(F.round(F.mean(F.col('rain_happen')) * 100,2).alias('avg_rain_days')).show()"
   ]
  },
  {
   "cell_type": "markdown",
   "id": "71fc2e8a-c54a-4c1a-af9f-9245ab98d928",
   "metadata": {},
   "source": [
    "    - For each year, find what percentage of days it rained (had non-zero precipitation)."
   ]
  },
  {
   "cell_type": "markdown",
   "id": "00a5de83",
   "metadata": {},
   "source": []
  },
  {
   "cell_type": "code",
   "execution_count": 30,
   "id": "36c9492e-cc72-4886-89f5-dc46ed951d3b",
   "metadata": {},
   "outputs": [
    {
     "data": {
      "text/plain": [
       "DataFrame[date: timestamp, precipitation: double, wind: double, weather: string, max_temp: double, min_temp: double]"
      ]
     },
     "execution_count": 30,
     "metadata": {},
     "output_type": "execute_result"
    }
   ],
   "source": [
    "weather"
   ]
  },
  {
   "cell_type": "code",
   "execution_count": 31,
   "id": "ed3c575b-8def-4536-98dd-4f335cc2188b",
   "metadata": {},
   "outputs": [],
   "source": [
    "# how many days did it rain?\n",
    "# the percentage of days that have non-zero precipitation\n",
    "# Building out a strategy for this process:\n",
    "# 1 - find out days that have had more than zero precip, which\n",
    "# will result in a boolean value\n",
    "# that sounds like a setup for a \n",
    "# F.when(#condition ==> did_rain bool)\n",
    "# once I have did_rain rendered as a boolean, I know that if I take the mean\n",
    "# of said boolean I will result with a rate as a result of the number of true instances\n",
    "# over the denominator of the number of rows in the df.\n",
    "# I want to know this for each year, so this process should happen in the scope\n",
    "# of an aggregation for year-by-year."
   ]
  },
  {
   "cell_type": "code",
   "execution_count": 32,
   "id": "b846ae9f-2135-40c8-950f-b93f08b31a93",
   "metadata": {},
   "outputs": [
    {
     "name": "stdout",
     "output_type": "stream",
     "text": [
      "+-------------+-----------+\n",
      "|precipitation|rain_happen|\n",
      "+-------------+-----------+\n",
      "|          0.0|          0|\n",
      "|         10.9|          1|\n",
      "|          0.8|          1|\n",
      "|         20.3|          1|\n",
      "|          1.3|          1|\n",
      "+-------------+-----------+\n",
      "only showing top 5 rows\n",
      "\n"
     ]
    }
   ],
   "source": [
    "# things I know I will need:\n",
    "# a groupby\n",
    "# potentially a when statement*\n",
    "weather.withColumn(\n",
    "    'rain_happen',\n",
    "    F.when(\n",
    "        F.col('precipitation') > 0,\n",
    "        1).otherwise(0)\n",
    ").select('precipitation', 'rain_happen').show(5)"
   ]
  },
  {
   "cell_type": "code",
   "execution_count": 38,
   "id": "265565f3-50da-4f40-bab6-ab1376597086",
   "metadata": {},
   "outputs": [
    {
     "name": "stdout",
     "output_type": "stream",
     "text": [
      "+-------------+-----------+\n",
      "|precipitation|rain_happen|\n",
      "+-------------+-----------+\n",
      "|          0.0|          0|\n",
      "|         10.9|          1|\n",
      "|          0.8|          1|\n",
      "|         20.3|          1|\n",
      "|          1.3|          1|\n",
      "+-------------+-----------+\n",
      "only showing top 5 rows\n",
      "\n"
     ]
    }
   ],
   "source": [
    "# alternate method for grabbing truth values\n",
    "# of did_rain: make the boolean comparison, cast as an integer\n",
    "weather.withColumn(\n",
    "    'rain_happen',\n",
    "    (weather.precipitation > 0).cast('int')\n",
    ").select('precipitation', 'rain_happen').show(5)"
   ]
  },
  {
   "cell_type": "code",
   "execution_count": 40,
   "id": "ef920db2-f82d-46ef-96dc-da0c11a6e5f2",
   "metadata": {},
   "outputs": [
    {
     "name": "stdout",
     "output_type": "stream",
     "text": [
      "+----------+------------+\n",
      "|year(date)|rain_percent|\n",
      "+----------+------------+\n",
      "|      2012|       48.36|\n",
      "|      2013|       41.64|\n",
      "|      2014|        41.1|\n",
      "|      2015|       39.45|\n",
      "+----------+------------+\n",
      "\n"
     ]
    }
   ],
   "source": [
    "# lets pick one of the previous code blocks and run with it\n",
    "# to proceed forward with our yearly aggregation\n",
    "weather.withColumn(\n",
    "    'rain_happen',\n",
    "    (weather.precipitation > 0).cast('int')\n",
    ").groupBy(\n",
    "    F.year(\n",
    "        F.col(\n",
    "            'date')\n",
    "    )\n",
    ").agg(\n",
    "    F.round(F.mean('rain_happen') * 100, 2).alias('rain_percent')\n",
    ").show()"
   ]
  },
  {
   "cell_type": "code",
   "execution_count": null,
   "id": "d1b6a5cb-a65a-4b55-90d9-44fa92d72fa0",
   "metadata": {},
   "outputs": [],
   "source": []
  }
 ],
 "metadata": {
  "kernelspec": {
   "display_name": "Python 3 (ipykernel)",
   "language": "python",
   "name": "python3"
  },
  "language_info": {
   "codemirror_mode": {
    "name": "ipython",
    "version": 3
   },
   "file_extension": ".py",
   "mimetype": "text/x-python",
   "name": "python",
   "nbconvert_exporter": "python",
   "pygments_lexer": "ipython3",
   "version": "3.11.2"
  },
  "vscode": {
   "interpreter": {
    "hash": "a663fe87cecd745cb612072d9d637a53c729fd52234205507f921849fb354870"
   }
  }
 },
 "nbformat": 4,
 "nbformat_minor": 5
}
